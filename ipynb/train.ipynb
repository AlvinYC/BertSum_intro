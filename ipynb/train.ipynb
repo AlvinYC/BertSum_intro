{
 "cells": [
  {
   "cell_type": "code",
   "execution_count": 1,
   "metadata": {},
   "outputs": [],
   "source": [
    "#!/usr/bin/env python\n",
    "\"\"\"\n",
    "    Main training workflow\n",
    "\"\"\"\n",
    "from __future__ import division\n",
    "\n",
    "import argparse\n",
    "import glob\n",
    "import os\n",
    "import sys\n",
    "import random\n",
    "import signal\n",
    "import time\n",
    "\n",
    "import torch\n",
    "from pytorch_pretrained_bert import BertConfig\n",
    "\n",
    "import distributed\n",
    "from models import data_loader, model_builder\n",
    "from models.data_loader import load_dataset\n",
    "from models.model_builder import Summarizer\n",
    "from models.trainer import build_trainer\n",
    "from others.logging import logger, init_logger\n",
    "\n",
    "model_flags = ['hidden_size', 'ff_size', 'heads', 'inter_layers','encoder','ff_actv', 'use_interval','rnn_size']\n"
   ]
  },
  {
   "cell_type": "code",
   "execution_count": 2,
   "metadata": {},
   "outputs": [],
   "source": [
    "\n",
    "def str2bool(v):\n",
    "    if v.lower() in ('yes', 'true', 't', 'y', '1'):\n",
    "        return True\n",
    "    elif v.lower() in ('no', 'false', 'f', 'n', '0'):\n",
    "        return False\n",
    "    else:\n",
    "        raise argparse.ArgumentTypeError('Boolean value expected.')"
   ]
  },
  {
   "cell_type": "markdown",
   "metadata": {},
   "source": [
    "## command from BertSum github\n",
    "\n",
    "```python\n",
    "python train.py \n",
    "    -mode train \n",
    "    -encoder classifier \n",
    "    -dropout 0.1 \n",
    "    -bert_data_path ../bert_data/cnndm \n",
    "    -model_path ../models/bert_classifier \n",
    "    -lr 2e-3 \n",
    "    -visible_gpus 0,1,2  # microfocus serve have 2 tesla gpu, should change from 0,1,2 to 0,1\n",
    "    -gpu_ranks 0,1,2     # microfocus serve have 2 tesla gpu, should change from 0,1,2 to 0,1\n",
    "    -world_size 3        # microfocus serve have 2 tesla gpu, should change from 3 to 2\n",
    "    -report_every 50 \n",
    "    -save_checkpoint_steps 1000 \n",
    "    -batch_size 3000 \n",
    "    -decay_method noam \n",
    "    -train_steps 50000 \n",
    "    -accum_count 2 \n",
    "    -log_file ../logs/bert_classifier \n",
    "    -use_interval true \n",
    "    -warmup_steps 10000\n",
    "```"
   ]
  },
  {
   "cell_type": "code",
   "execution_count": 81,
   "metadata": {},
   "outputs": [
    {
     "name": "stdout",
     "output_type": "stream",
     "text": [
      "/usr/bin/python3: No module named python3\r\n"
     ]
    }
   ],
   "source": [
    "!$sys.executable -m python3 python train.py -mode train -encoder classifier -dropout 0.1 \\\n",
    "-bert_data_path ../bert_data/cnndm \\\n",
    "-model_path ../models/bert_classifier \\\n",
    "-lr 2e-3 \\\n",
    "-visible_gpus 0,1 \\\n",
    "-gpu_ranks 0,1 \\\n",
    "-world_size 2 \\\n",
    "-report_every 50 \\\n",
    "-save_checkpoint_steps 1000 \\\n",
    "-batch_size 3000 \\\n",
    "-decay_method noam \\\n",
    "-train_steps 50000 \\\n",
    "-accum_count 2 \\\n",
    "-log_file ../logs/bert_classifier \\\n",
    "-use_interval true \\\n",
    "-warmup_steps 10000\\"
   ]
  },
  {
   "cell_type": "code",
   "execution_count": 73,
   "metadata": {},
   "outputs": [
    {
     "data": {
      "text/plain": [
       "_StoreAction(option_strings=['-block_trigram'], dest='block_trigram', nargs='?', const=True, default=True, type=<function str2bool at 0x7f85cdd88730>, choices=None, help=None, metavar=None)"
      ]
     },
     "execution_count": 73,
     "metadata": {},
     "output_type": "execute_result"
    }
   ],
   "source": [
    "#if __name__ == '__main__':\n",
    "parser = argparse.ArgumentParser()\n",
    "\n",
    "parser.add_argument(\"-encoder\", default='classifier', type=str, choices=['classifier','transformer','rnn','baseline'])\n",
    "parser.add_argument(\"-mode\", default='train', type=str, choices=['train','validate','test'])\n",
    "parser.add_argument(\"-bert_data_path\", default='../bert_data/cnndm')\n",
    "parser.add_argument(\"-model_path\", default='../models/')\n",
    "parser.add_argument(\"-result_path\", default='../results/cnndm')\n",
    "parser.add_argument(\"-temp_dir\", default='../temp')\n",
    "parser.add_argument(\"-bert_config_path\", default='../bert_config_uncased_base.json')\n",
    "\n",
    "parser.add_argument(\"-batch_size\", default=1000, type=int)\n",
    "\n",
    "parser.add_argument(\"-use_interval\", type=str2bool, nargs='?',const=True,default=True)\n",
    "parser.add_argument(\"-hidden_size\", default=128, type=int)\n",
    "parser.add_argument(\"-ff_size\", default=512, type=int)\n",
    "parser.add_argument(\"-heads\", default=4, type=int)\n",
    "parser.add_argument(\"-inter_layers\", default=2, type=int)\n",
    "parser.add_argument(\"-rnn_size\", default=512, type=int)\n",
    "\n",
    "parser.add_argument(\"-param_init\", default=0, type=float)\n",
    "parser.add_argument(\"-param_init_glorot\", type=str2bool, nargs='?',const=True,default=True)\n",
    "parser.add_argument(\"-dropout\", default=0.1, type=float)\n",
    "parser.add_argument(\"-optim\", default='adam', type=str)\n",
    "parser.add_argument(\"-lr\", default=1, type=float)\n",
    "parser.add_argument(\"-beta1\", default= 0.9, type=float)\n",
    "parser.add_argument(\"-beta2\", default=0.999, type=float)\n",
    "parser.add_argument(\"-decay_method\", default='', type=str)\n",
    "parser.add_argument(\"-warmup_steps\", default=8000, type=int)\n",
    "parser.add_argument(\"-max_grad_norm\", default=0, type=float)\n",
    "\n",
    "parser.add_argument(\"-save_checkpoint_steps\", default=5, type=int)\n",
    "parser.add_argument(\"-accum_count\", default=1, type=int)\n",
    "parser.add_argument(\"-world_size\", default=1, type=int)\n",
    "parser.add_argument(\"-report_every\", default=1, type=int)\n",
    "parser.add_argument(\"-train_steps\", default=1000, type=int)\n",
    "parser.add_argument(\"-recall_eval\", type=str2bool, nargs='?',const=True,default=False)\n",
    "\n",
    "\n",
    "parser.add_argument('-visible_gpus', default='-1', type=str)\n",
    "parser.add_argument('-gpu_ranks', default='0', type=str)\n",
    "parser.add_argument('-log_file', default='../logs/cnndm.log')\n",
    "parser.add_argument('-dataset', default='')\n",
    "parser.add_argument('-seed', default=666, type=int)\n",
    "\n",
    "parser.add_argument(\"-test_all\", type=str2bool, nargs='?',const=True,default=False)\n",
    "parser.add_argument(\"-test_from\", default='')\n",
    "parser.add_argument(\"-train_from\", default='')\n",
    "parser.add_argument(\"-report_rouge\", type=str2bool, nargs='?',const=True,default=True)\n",
    "parser.add_argument(\"-block_trigram\", type=str2bool, nargs='?', const=True, default=True)\n",
    "\n",
    "args = parser.parse_args()\n",
    "# ipython notebook import parser issue, solution and root cause\n",
    "# https://blog.csdn.net/u012869752/article/details/72513141\n",
    "#args = parser.parse_args(args=[])\n",
    "\n",
    "#args.gpu_ranks = [int(i) for i in args.gpu_ranks.split(',')]\n",
    "args.gpu_ranks = [int(i) for i in args.gpu_ranks.split(',')]\n",
    "os.environ[\"CUDA_VISIBLE_DEVICES\"] = args.visible_gpus\n",
    "\n",
    "init_logger(args.log_file)\n",
    "device = \"cpu\" if args.visible_gpus == '-1' else \"cuda\"\n",
    "device_id = 0 if device == \"cuda\" else -1\n",
    "\n"
   ]
  },
  {
   "cell_type": "markdown",
   "metadata": {},
   "source": [
    "# decide which component should be executed\n",
    "# this part could be choice manually \n",
    "\n",
    "```python\n",
    "if(args.world_size>1):\n",
    "    multi_main(args)\n",
    "elif (args.mode == 'train'):\n",
    "    train(args, device_id)\n",
    "elif (args.mode == 'validate'):\n",
    "    wait_and_validate(args, device_id)\n",
    "elif (args.mode == 'lead'):\n",
    "    baseline(args, cal_lead=True)\n",
    "elif (args.mode == 'oracle'):\n",
    "    baseline(args, cal_oracle=True)\n",
    "elif (args.mode == 'test'):\n",
    "    cp = args.test_from\n",
    "    try:\n",
    "        step = int(cp.split('.')[-2].split('_')[-1])\n",
    "    except:\n",
    "        step = 0\n",
    "    test(args, device_id, cp, step)\n",
    "```"
   ]
  },
  {
   "cell_type": "code",
   "execution_count": null,
   "metadata": {},
   "outputs": [],
   "source": [
    "def train(args, device_id):\n",
    "    init_logger(args.log_file)\n",
    "\n",
    "    device = \"cpu\" if args.visible_gpus == '-1' else \"cuda\"\n",
    "    logger.info('Device ID %d' % device_id)\n",
    "    logger.info('Device %s' % device)\n",
    "    torch.manual_seed(args.seed)\n",
    "    random.seed(args.seed)\n",
    "    torch.backends.cudnn.deterministic = True\n",
    "\n",
    "    if device_id >= 0:\n",
    "        torch.cuda.set_device(device_id)\n",
    "        torch.cuda.manual_seed(args.seed)\n",
    "\n",
    "\n",
    "    torch.manual_seed(args.seed)\n",
    "    random.seed(args.seed)\n",
    "    torch.backends.cudnn.deterministic = True\n",
    "\n",
    "    def train_iter_fct():\n",
    "        return data_loader.Dataloader(args, load_dataset(args, 'train', shuffle=True), args.batch_size, device,\n",
    "                                                 shuffle=True, is_test=False)\n",
    "\n",
    "    model = Summarizer(args, device, load_pretrained_bert=True)\n",
    "    if args.train_from != '':\n",
    "        logger.info('Loading checkpoint from %s' % args.train_from)\n",
    "        checkpoint = torch.load(args.train_from,\n",
    "                                map_location=lambda storage, loc: storage)\n",
    "        opt = vars(checkpoint['opt'])\n",
    "        for k in opt.keys():\n",
    "            if (k in model_flags):\n",
    "                setattr(args, k, opt[k])\n",
    "        model.load_cp(checkpoint)\n",
    "        optim = model_builder.build_optim(args, model, checkpoint)\n",
    "    else:\n",
    "        optim = model_builder.build_optim(args, model, None)\n",
    "\n",
    "    logger.info(model)\n",
    "    trainer = build_trainer(args, device_id, model, optim)\n",
    "    trainer.train(train_iter_fct, args.train_steps)"
   ]
  },
  {
   "cell_type": "code",
   "execution_count": 83,
   "metadata": {},
   "outputs": [
    {
     "data": {
      "text/plain": [
       "0"
      ]
     },
     "execution_count": 83,
     "metadata": {},
     "output_type": "execute_result"
    }
   ],
   "source": [
    "device_id"
   ]
  },
  {
   "cell_type": "code",
   "execution_count": 82,
   "metadata": {},
   "outputs": [],
   "source": [
    "def train(args, device_id):\n",
    "    print(device_id)\n",
    "    print(args)"
   ]
  },
  {
   "cell_type": "code",
   "execution_count": 84,
   "metadata": {},
   "outputs": [
    {
     "name": "stdout",
     "output_type": "stream",
     "text": [
      "0\n",
      "Namespace(accum_count=2, batch_size=3000, bert_config_path='../bert_config_uncased_base.json', bert_data_path='../bert_data/cnndm', beta1=0.9, beta2=0.999, block_trigram=True, dataset='', decay_method='noam', dropout=0.1, encoder='classifier', ff_size=512, gpu_ranks=[0, 1, 2], heads=4, hidden_size=128, inter_layers=2, log_file='../logs/bert_classifier ', lr=0.002, max_grad_norm=0, mode='train', model_path='../models/bert_classifier', optim='adam', param_init=0, param_init_glorot=True, recall_eval=False, report_every=50, report_rouge=True, result_path='../results/cnndm', rnn_size=512, save_checkpoint_steps=1000, seed=666, temp_dir='../temp', test_all=False, test_from='', train_from='', train_steps=50000, use_interval=True, visible_gpus='0,1,2', warmup_steps=10000, world_size=3)\n"
     ]
    }
   ],
   "source": [
    "train(args, device_id)"
   ]
  },
  {
   "cell_type": "code",
   "execution_count": 85,
   "metadata": {},
   "outputs": [
    {
     "data": {
      "text/plain": [
       "<RootLogger root (INFO)>"
      ]
     },
     "execution_count": 85,
     "metadata": {},
     "output_type": "execute_result"
    }
   ],
   "source": [
    "init_logger(args.log_file)"
   ]
  },
  {
   "cell_type": "code",
   "execution_count": null,
   "metadata": {},
   "outputs": [],
   "source": []
  }
 ],
 "metadata": {
  "kernelspec": {
   "display_name": "Python 3",
   "language": "python",
   "name": "python3"
  },
  "language_info": {
   "codemirror_mode": {
    "name": "ipython",
    "version": 3
   },
   "file_extension": ".py",
   "mimetype": "text/x-python",
   "name": "python",
   "nbconvert_exporter": "python",
   "pygments_lexer": "ipython3",
   "version": "3.6.8"
  }
 },
 "nbformat": 4,
 "nbformat_minor": 2
}
